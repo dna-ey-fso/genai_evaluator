{
 "cells": [
  {
   "cell_type": "code",
   "execution_count": 1,
   "metadata": {},
   "outputs": [
    {
     "data": {
      "text/plain": [
       "True"
      ]
     },
     "execution_count": 1,
     "metadata": {},
     "output_type": "execute_result"
    }
   ],
   "source": [
    "import os\n",
    "\n",
    "from dotenv import load_dotenv\n",
    "\n",
    "from clients import OpenAILLMClient, TemplateStore\n",
    "\n",
    "load_dotenv()"
   ]
  },
  {
   "cell_type": "code",
   "execution_count": 2,
   "metadata": {},
   "outputs": [],
   "source": [
    "AZURE_OPENAI_API_VERSION = os.getenv(\"AZURE_OPENAI_API_VERSION\")\n",
    "AZURE_OPENAI_API_KEY = os.getenv(\"AZURE_OPENAI_API_KEY\")\n",
    "AZURE_OPENAI_ENDPOINT = os.getenv(\"AZURE_OPENAI_ENDPOINT\")\n",
    "AZURE_OPENAI_DEPLOYMENT_NAME = os.getenv(\"AZURE_OPENAI_DEPLOYMENT_NAME\")"
   ]
  },
  {
   "cell_type": "code",
   "execution_count": 3,
   "metadata": {},
   "outputs": [],
   "source": [
    "llm_client = OpenAILLMClient(\n",
    "    key=AZURE_OPENAI_API_KEY,\n",
    "    endpoint=AZURE_OPENAI_ENDPOINT,\n",
    "    api_version=AZURE_OPENAI_API_VERSION,\n",
    "    model=AZURE_OPENAI_DEPLOYMENT_NAME,\n",
    ")"
   ]
  },
  {
   "cell_type": "markdown",
   "metadata": {},
   "source": []
  },
  {
   "cell_type": "code",
   "execution_count": 4,
   "metadata": {},
   "outputs": [],
   "source": [
    "from clients.data_clients import TemplateStore\n",
    "\n",
    "template_store = TemplateStore(dir_path=\"templates\", do_validation=True)"
   ]
  },
  {
   "cell_type": "code",
   "execution_count": null,
   "metadata": {},
   "outputs": [],
   "source": [
    "from flows.retrieval_eval_flow import retrieval_eval_flow\n",
    "\n",
    "dict_eval_ret = retrieval_eval_flow(\n",
    "    question=\"What is the capital of France?\",\n",
    "    answer_gt=\"The capital of France is Paris.\",\n",
    "    answer_pred=\"France's capital city is Paris, known for the Eiffel Tower.\",\n",
    "    context=[\n",
    "        \"Paris is the capital and most populous city of France.\",\n",
    "        \"The Eiffel Tower, located in Paris, is a famous landmark.\",\n",
    "        \"France is a country in Western Europe known for its art, culture, and cuisine.\",\n",
    "        \"Lyon and Marseille are also major French cities but not the capital.\",\n",
    "    ],\n",
    "    llm_client=llm_client,\n",
    "    template_store=template_store,\n",
    ")\n",
    "\n",
    "print(dict_eval_ret)"
   ]
  },
  {
   "cell_type": "code",
   "execution_count": null,
   "metadata": {},
   "outputs": [],
   "source": [
    "import os\n",
    "\n",
    "from promptflow.tracing import start_trace\n",
    "\n",
    "from flows.generation_eval_flow import generation_eval_flow\n",
    "\n",
    "os.environ[\"PF_DISABLE_TRACING\"] = \"FALSE\"\n",
    "start_trace(collection=\"trace_rag_metrics\")\n",
    "\n",
    "dict_eval_gen = generation_eval_flow(\n",
    "    question=\"What is the capital of France?\",\n",
    "    answer_gt=\"The capital of France is Paris.\",\n",
    "    answer_pred=\"France's capital city is Paris, known for the Eiffel Tower.\",\n",
    "    context=[\n",
    "        \"Paris is the capital and most populous city of France.\",\n",
    "        \"The Eiffel Tower, located in Paris, is a famous landmark.\",\n",
    "        \"France is a country in Western Europe known for its art, culture, and cuisine.\",\n",
    "        \"Lyon and Marseille are also major French cities but not the capital.\",\n",
    "    ],\n",
    "    llm_client=llm_client,\n",
    "    template_store=template_store,\n",
    ")\n",
    "\n",
    "print(dict_eval_gen)"
   ]
  },
  {
   "cell_type": "code",
   "execution_count": null,
   "metadata": {},
   "outputs": [],
   "source": [
    "from flows.retrieval_eval_flow import retrieval_eval_flow\n",
    "\n",
    "dict_eval_ret = retrieval_eval_flow(\n",
    "    question=\"What are the main ingredients in traditional Italian pesto?\",\n",
    "    answer_gt=\"Traditional Italian pesto is made with basil, garlic, pine nuts, Parmesan cheese, and olive oil.\",\n",
    "    answer_pred=\"Italian pesto is usually made with spinach, almonds, cheddar cheese, and olive oil.\",\n",
    "    context=[\n",
    "        \"Pesto alla Genovese, the traditional Italian pesto, is made with fresh basil leaves, garlic, pine nuts, Parmesan cheese, and extra virgin olive oil.\",\n",
    "        \"Spinach and other ingredients may be used in variations of pesto, but they are not part of the traditional recipe.\",\n",
    "        \"The use of almonds or cheddar cheese is not typical in authentic Italian pesto recipes.\",\n",
    "        \"Sunflower oil is not used in traditional Italian pesto.\",\n",
    "    ],\n",
    "    llm_client=llm_client,\n",
    "    template_store=template_store,\n",
    ")\n",
    "print(dict_eval_ret)"
   ]
  },
  {
   "cell_type": "code",
   "execution_count": null,
   "metadata": {},
   "outputs": [],
   "source": [
    "import os\n",
    "\n",
    "from promptflow.tracing import start_trace\n",
    "\n",
    "os.environ[\"PF_DISABLE_TRACING\"] = \"FALSE\"\n",
    "\n",
    "\n",
    "start_trace()\n",
    "dict_eval_gen = generation_eval_flow(\n",
    "    question=\"What are the main ingredients in traditional Italian pesto?\",\n",
    "    answer_gt=\"Traditional Italian pesto is made with basil, garlic, pine nuts, Parmesan cheese, and olive oil.\",\n",
    "    answer_pred=\"Italian pesto is usually made with spinach, almonds, cheddar cheese, and olive oil.\",\n",
    "    context=[\n",
    "        \"Pesto alla Genovese, the traditional Italian pesto, is made with fresh basil leaves, garlic, pine nuts, Parmesan cheese, and extra virgin olive oil.\",\n",
    "        \"Spinach and other ingredients may be used in variations of pesto, but they are not part of the traditional recipe.\",\n",
    "        \"The use of almonds or cheddar cheese is not typical in authentic Italian pesto recipes.\",\n",
    "        \"Sunflower oil is not used in traditional Italian pesto.\",\n",
    "    ],\n",
    "    llm_client=llm_client,\n",
    "    template_store=template_store,\n",
    ")\n",
    "print(dict_eval_gen)"
   ]
  },
  {
   "cell_type": "markdown",
   "metadata": {},
   "source": [
    "RAG evaluation flow"
   ]
  },
  {
   "cell_type": "code",
   "execution_count": 5,
   "metadata": {},
   "outputs": [],
   "source": [
    "from clients.embedding_client import OpenAIEmbeddingClient\n",
    "from clients.faiss_client import FAISSVectorStore\n",
    "from flows.rag_flow import rag_flow\n",
    "\n",
    "embedding_client = OpenAIEmbeddingClient(\n",
    "    credential=AZURE_OPENAI_API_KEY,\n",
    "    endpoint=AZURE_OPENAI_ENDPOINT,\n",
    "    api_version=AZURE_OPENAI_API_VERSION,\n",
    "    model=\"text-embedding-ada-002\",\n",
    ")\n",
    "vector_store = FAISSVectorStore(embedding_client=embedding_client)\n"
   ]
  },
  {
   "cell_type": "code",
   "execution_count": 6,
   "metadata": {},
   "outputs": [
    {
     "name": "stderr",
     "output_type": "stream",
     "text": [
      "\u001b[32m2025-05-14 14:56:38.205\u001b[0m | \u001b[34m\u001b[1mDEBUG   \u001b[0m | \u001b[36mclients.faiss_client\u001b[0m:\u001b[36madd_documents\u001b[0m:\u001b[36m36\u001b[0m - \u001b[34m\u001b[1mProcessing batch 1/1\u001b[0m\n",
      "\u001b[32m2025-05-14 14:56:40.233\u001b[0m | \u001b[1mINFO    \u001b[0m | \u001b[36mclients.faiss_client\u001b[0m:\u001b[36mingest_documents\u001b[0m:\u001b[36m101\u001b[0m - \u001b[1mTotal documents ingested: 7\u001b[0m\n"
     ]
    }
   ],
   "source": [
    "# context = Path(\"data/equality-and-diversity-policy.pdf\")\n",
    "# batch_size =  400\n",
    "context = [\n",
    "    \"To build muscle effectively, focus on compound exercises such as squats, deadlifts, bench press, and pull-ups.\",\n",
    "    \"Progressive overload is essential — gradually increasing the weight or reps over time will stimulate muscle growth.\",\n",
    "    \"Eating a calorie surplus with adequate protein intake (1.6-2.2g per kg of body weight) supports muscle hypertrophy.\",\n",
    "    \"Rest and recovery are crucial; muscles grow during rest periods, so aim for at least 7-8 hours of sleep per night.\",\n",
    "    \"Train each major muscle group at least twice a week with a combination of volume and intensity.\",\n",
    "    \"A typical beginner mass-building routine includes 3–4 full-body workouts per week focusing on strength and hypertrophy.\",\n",
    "    \"Supplements like creatine monohydrate and whey protein can support your muscle-building goals when used correctly.\",\n",
    "]\n",
    "vector_store.ingest_documents(context, batch_size=64)"
   ]
  },
  {
   "cell_type": "code",
   "execution_count": 7,
   "metadata": {},
   "outputs": [],
   "source": [
    "question = \"What are the best exercises for building muscle?\"\n",
    "answer_gt = \"The best exercises for building muscle include compound movements like squats, deadlifts, bench press, and pull-ups.\""
   ]
  },
  {
   "cell_type": "code",
   "execution_count": 8,
   "metadata": {},
   "outputs": [
    {
     "name": "stdout",
     "output_type": "stream",
     "text": [
      "Prompt flow service has started...\n"
     ]
    },
    {
     "name": "stderr",
     "output_type": "stream",
     "text": [
      "\u001b[32m2025-05-14 14:56:53.317\u001b[0m | \u001b[34m\u001b[1mDEBUG   \u001b[0m | \u001b[36mflows.rag_flow\u001b[0m:\u001b[36mrag_flow\u001b[0m:\u001b[36m63\u001b[0m - \u001b[34m\u001b[1mLLM response: {'role': <RoleType.ASSISTANT: 'assistant'>, 'content': 'The best exercises for building muscle are compound exercises, as they target multiple muscle groups simultaneously and allow you to lift heavier weights, promoting strength and hypertrophy. Key exercises include:\\n\\n1. **Squats** - Excellent for building lower body strength and muscle, targeting the quads, hamstrings, glutes, and core.\\n2. **Deadlifts** - A full-body exercise that works the back, glutes, hamstrings, and core.\\n3. **Bench Press** - Great for developing the chest, shoulders, and triceps.\\n4. **Pull-Ups** - Effective for building the lats, biceps, and upper back.\\n\\nIncorporating these exercises into a routine that trains each major muscle group at least twice a week, with a combination of volume and intensity, is ideal for muscle growth.'}\u001b[0m\n"
     ]
    },
    {
     "name": "stdout",
     "output_type": "stream",
     "text": [
      "{'result_ret': {'relevancy': 1.0}, 'result_gen': {'faithfulness': 0.4, 'precision': 1.0, 'recall': 1.0}}\n"
     ]
    }
   ],
   "source": [
    "from promptflow.tracing import start_trace\n",
    "\n",
    "start_trace()\n",
    "result = rag_flow(\n",
    "    question=question,\n",
    "    answer_gt=answer_gt,\n",
    "    llm_client=llm_client,\n",
    "    template_store=template_store,\n",
    "    vector_store=vector_store,\n",
    "    evaluate=True,\n",
    "    num_results=3,\n",
    "    system_prompt=\"Answer the question based on the provided context.\",\n",
    ")\n",
    "print(result)"
   ]
  }
 ],
 "metadata": {
  "kernelspec": {
   "display_name": ".venv",
   "language": "python",
   "name": "python3"
  },
  "language_info": {
   "codemirror_mode": {
    "name": "ipython",
    "version": 3
   },
   "file_extension": ".py",
   "mimetype": "text/x-python",
   "name": "python",
   "nbconvert_exporter": "python",
   "pygments_lexer": "ipython3",
   "version": "3.11.0"
  }
 },
 "nbformat": 4,
 "nbformat_minor": 2
}
