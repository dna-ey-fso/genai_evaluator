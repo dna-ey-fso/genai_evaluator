{
 "cells": [
  {
   "cell_type": "code",
   "execution_count": null,
   "metadata": {},
   "outputs": [],
   "source": [
    "from clients import TemplateStore, OpenAILLMClient"
   ]
  },
  {
   "cell_type": "code",
   "execution_count": null,
   "metadata": {},
   "outputs": [],
   "source": [
    "AZURE_OPENAI_API_VERSION=\n",
    "AZURE_OPENAI_API_KEY=\n",
    "AZURE_OPENAI_ENDPOINT=\n",
    "AZURE_OPENAI_DEPLOYMENT_NAME=\n"
   ]
  },
  {
   "cell_type": "code",
   "execution_count": 4,
   "metadata": {},
   "outputs": [],
   "source": [
    "llm_client = OpenAILLMClient(\n",
    "    key=AZURE_OPENAI_API_KEY,\n",
    "    endpoint=AZURE_OPENAI_ENDPOINT,\n",
    "    api_version=AZURE_OPENAI_API_VERSION,\n",
    "    model=AZURE_OPENAI_DEPLOYMENT_NAME\n",
    ")"
   ]
  },
  {
   "cell_type": "markdown",
   "metadata": {},
   "source": []
  },
  {
   "cell_type": "code",
   "execution_count": 5,
   "metadata": {},
   "outputs": [],
   "source": [
    "\n",
    "from clients.data_clients import TemplateStore\n",
    "template_store = TemplateStore(dir_path=\"templates\", do_validation=True)\n",
    "\n"
   ]
  },
  {
   "cell_type": "markdown",
   "metadata": {},
   "source": []
  },
  {
   "cell_type": "code",
   "execution_count": 7,
   "metadata": {},
   "outputs": [
    {
     "name": "stdout",
     "output_type": "stream",
     "text": [
      "{'relevancy': 1.0}\n"
     ]
    }
   ],
   "source": [
    "from flows.retrieval_eval_flow import retrieval_eval_flow\n",
    "\n",
    "\n",
    "dict_eval_ret = retrieval_eval_flow(\n",
    "    question=\"What is the capital of France?\",\n",
    "    answer_gt=\"The capital of France is Paris.\",\n",
    "    answer_pred=\"France's capital city is Paris, known for the Eiffel Tower.\",\n",
    "    context=[\n",
    "    \"Paris is the capital and most populous city of France.\",\n",
    "    \"The Eiffel Tower, located in Paris, is a famous landmark.\",\n",
    "    \"France is a country in Western Europe known for its art, culture, and cuisine.\",\n",
    "    \"Lyon and Marseille are also major French cities but not the capital.\"\n",
    "],\n",
    "    llm_client=llm_client,\n",
    "    template_store=template_store\n",
    ")\n",
    "\n",
    "print(dict_eval_ret)"
   ]
  },
  {
   "cell_type": "code",
   "execution_count": 8,
   "metadata": {},
   "outputs": [
    {
     "name": "stdout",
     "output_type": "stream",
     "text": [
      "{'faithfulness': 0.0, 'precision': 1.0, 'recall': 1.0}\n"
     ]
    }
   ],
   "source": [
    "from flows.generation_eval_flow import generation_eval_flow\n",
    "\n",
    "dict_eval_gen = generation_eval_flow(\n",
    "    question=\"What is the capital of France?\",\n",
    "    answer_gt=\"The capital of France is Paris.\",\n",
    "    answer_pred=\"France's capital city is Paris, known for the Eiffel Tower.\",\n",
    "    context=[\n",
    "    \"Paris is the capital and most populous city of France.\",\n",
    "    \"The Eiffel Tower, located in Paris, is a famous landmark.\",\n",
    "    \"France is a country in Western Europe known for its art, culture, and cuisine.\",\n",
    "    \"Lyon and Marseille are also major French cities but not the capital.\"\n",
    "],\n",
    "    llm_client=llm_client,\n",
    "    template_store=template_store\n",
    ")\n",
    "\n",
    "print(dict_eval_gen)"
   ]
  },
  {
   "cell_type": "code",
   "execution_count": 9,
   "metadata": {},
   "outputs": [
    {
     "name": "stdout",
     "output_type": "stream",
     "text": [
      "{'relevancy': 0.25}\n"
     ]
    }
   ],
   "source": [
    "dict_eval_ret = retrieval_eval_flow(\n",
    "    question=\"What are the main ingredients in traditional Italian pesto?\",\n",
    "    answer_gt=\"Traditional Italian pesto is made with basil, garlic, pine nuts, Parmesan cheese, and olive oil.\",\n",
    "    answer_pred=\"Italian pesto is usually made with spinach, almonds, cheddar cheese, and olive oil.\",\n",
    "    context=[\n",
    "    \"Pesto alla Genovese, the traditional Italian pesto, is made with fresh basil leaves, garlic, pine nuts, Parmesan cheese, and extra virgin olive oil.\",\n",
    "    \"Spinach and other ingredients may be used in variations of pesto, but they are not part of the traditional recipe.\",\n",
    "    \"The use of almonds or cheddar cheese is not typical in authentic Italian pesto recipes.\",\n",
    "    \"Sunflower oil is not used in traditional Italian pesto.\"\n",
    "],\n",
    "    llm_client=llm_client,\n",
    "    template_store=template_store\n",
    ")\n",
    "print(dict_eval_ret)"
   ]
  },
  {
   "cell_type": "code",
   "execution_count": 8,
   "metadata": {},
   "outputs": [
    {
     "name": "stdout",
     "output_type": "stream",
     "text": [
      "{'faithfulness': 0.25, 'precision': 0.25, 'recall': 0.2}\n"
     ]
    }
   ],
   "source": [
    "dict_eval_gen = generation_eval_flow(\n",
    "    question=\"What are the main ingredients in traditional Italian pesto?\",\n",
    "    answer_gt=\"Traditional Italian pesto is made with basil, garlic, pine nuts, Parmesan cheese, and olive oil.\",\n",
    "    answer_pred=\"Italian pesto is usually made with spinach, almonds, cheddar cheese, and olive oil.\",\n",
    "    context=[\n",
    "    \"Pesto alla Genovese, the traditional Italian pesto, is made with fresh basil leaves, garlic, pine nuts, Parmesan cheese, and extra virgin olive oil.\",\n",
    "    \"Spinach and other ingredients may be used in variations of pesto, but they are not part of the traditional recipe.\",\n",
    "    \"The use of almonds or cheddar cheese is not typical in authentic Italian pesto recipes.\",\n",
    "    \"Sunflower oil is not used in traditional Italian pesto.\"\n",
    "],\n",
    "    llm_client=llm_client,\n",
    "    template_store=template_store\n",
    ")\n",
    "print(dict_eval_gen)"
   ]
  }
 ],
 "metadata": {
  "kernelspec": {
   "display_name": "genai_evaluator",
   "language": "python",
   "name": "python3"
  },
  "language_info": {
   "codemirror_mode": {
    "name": "ipython",
    "version": 3
   },
   "file_extension": ".py",
   "mimetype": "text/x-python",
   "name": "python",
   "nbconvert_exporter": "python",
   "pygments_lexer": "ipython3",
   "version": "3.10.11"
  }
 },
 "nbformat": 4,
 "nbformat_minor": 2
}
