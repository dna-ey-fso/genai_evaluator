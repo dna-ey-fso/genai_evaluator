{
 "cells": [
  {
   "cell_type": "code",
   "execution_count": 1,
   "metadata": {},
   "outputs": [
    {
     "data": {
      "text/plain": [
       "True"
      ]
     },
     "execution_count": 1,
     "metadata": {},
     "output_type": "execute_result"
    }
   ],
   "source": [
    "import os\n",
    "\n",
    "from dotenv import load_dotenv\n",
    "\n",
    "from clients import OpenAILLMClient, TemplateStore\n",
    "\n",
    "load_dotenv()"
   ]
  },
  {
   "cell_type": "code",
   "execution_count": 2,
   "metadata": {},
   "outputs": [],
   "source": [
    "AZURE_OPENAI_API_VERSION = os.getenv(\"AZURE_OPENAI_API_VERSION\")\n",
    "AZURE_OPENAI_API_KEY = os.getenv(\"AZURE_OPENAI_API_KEY\")\n",
    "AZURE_OPENAI_ENDPOINT = os.getenv(\"AZURE_OPENAI_ENDPOINT\")\n",
    "AZURE_OPENAI_DEPLOYMENT_NAME = os.getenv(\"AZURE_OPENAI_DEPLOYMENT_NAME\")"
   ]
  },
  {
   "cell_type": "code",
   "execution_count": 3,
   "metadata": {},
   "outputs": [],
   "source": [
    "llm_client = OpenAILLMClient(\n",
    "    key=AZURE_OPENAI_API_KEY,\n",
    "    endpoint=AZURE_OPENAI_ENDPOINT,\n",
    "    api_version=AZURE_OPENAI_API_VERSION,\n",
    "    model=AZURE_OPENAI_DEPLOYMENT_NAME,\n",
    ")"
   ]
  },
  {
   "cell_type": "markdown",
   "metadata": {},
   "source": []
  },
  {
   "cell_type": "code",
   "execution_count": 4,
   "metadata": {},
   "outputs": [],
   "source": [
    "from clients.data_clients import TemplateStore\n",
    "\n",
    "template_store = TemplateStore(dir_path=\"templates\", do_validation=True)"
   ]
  },
  {
   "cell_type": "code",
   "execution_count": 5,
   "metadata": {},
   "outputs": [
    {
     "name": "stdout",
     "output_type": "stream",
     "text": [
      "{'relevancy': 1.0}\n"
     ]
    }
   ],
   "source": [
    "from flows.retrieval_eval_flow import retrieval_eval_flow\n",
    "\n",
    "dict_eval_ret = retrieval_eval_flow(\n",
    "    question=\"What is the capital of France?\",\n",
    "    answer_gt=\"The capital of France is Paris.\",\n",
    "    answer_pred=\"France's capital city is Paris, known for the Eiffel Tower.\",\n",
    "    context=[\n",
    "        \"Paris is the capital and most populous city of France.\",\n",
    "        \"The Eiffel Tower, located in Paris, is a famous landmark.\",\n",
    "        \"France is a country in Western Europe known for its art, culture, and cuisine.\",\n",
    "        \"Lyon and Marseille are also major French cities but not the capital.\",\n",
    "    ],\n",
    "    llm_client=llm_client,\n",
    "    template_store=template_store,\n",
    ")\n",
    "\n",
    "print(dict_eval_ret)"
   ]
  },
  {
   "cell_type": "code",
   "execution_count": 6,
   "metadata": {},
   "outputs": [
    {
     "name": "stdout",
     "output_type": "stream",
     "text": [
      "Prompt flow service has started...\n",
      "{'faithfulness': 1.0, 'precision': 1.0, 'recall': 1.0}\n"
     ]
    },
    {
     "name": "stdout",
     "output_type": "stream",
     "text": [
      "You can view the trace detail from the following URL:\n",
      "http://127.0.0.1:23333/v1.0/ui/traces/?#collection=trace_rag_metrics&uiTraceId=0x82e2135f7032966620ab8695886dd7e3\n",
      "You can view the trace detail from the following URL:\n",
      "http://127.0.0.1:23333/v1.0/ui/traces/?#collection=trace_rag_metrics&uiTraceId=0x9c4c987cee14242da05d709bbdee89e4\n",
      "You can view the trace detail from the following URL:\n",
      "http://127.0.0.1:23333/v1.0/ui/traces/?#collection=trace_rag_metrics&uiTraceId=0xafeef42e8e842737d8d462762f8155c2\n",
      "You can view the trace detail from the following URL:\n",
      "http://127.0.0.1:23333/v1.0/ui/traces/?#collection=trace_rag_metrics&uiTraceId=0x113cb936ff7b33eebae6dc978862b052\n",
      "You can view the trace detail from the following URL:\n",
      "http://127.0.0.1:23333/v1.0/ui/traces/?#collection=trace_rag_metrics&uiTraceId=0xe99eef2da1e6e3a95ba6beef34f5ee5e\n",
      "You can view the trace detail from the following URL:\n",
      "http://127.0.0.1:23333/v1.0/ui/traces/?#collection=trace_rag_metrics&uiTraceId=0xf487dba590526497bffcbe1c719714be\n",
      "You can view the trace detail from the following URL:\n",
      "http://127.0.0.1:23333/v1.0/ui/traces/?#collection=trace_rag_metrics&uiTraceId=0x9f228df775a77171d926ba7f858e005a\n",
      "You can view the trace detail from the following URL:\n",
      "http://127.0.0.1:23333/v1.0/ui/traces/?#collection=trace_rag_metrics&uiTraceId=0x7d330ea1412384a2bef8110a7eea4f3b\n",
      "You can view the trace detail from the following URL:\n",
      "http://127.0.0.1:23333/v1.0/ui/traces/?#collection=trace_rag_metrics&uiTraceId=0xcba69dcc9a89dad018b6fd2b6716ab6d\n",
      "You can view the trace detail from the following URL:\n",
      "http://127.0.0.1:23333/v1.0/ui/traces/?#collection=trace_rag_metrics&uiTraceId=0x0cb30d457e29d62f456f5723d6174da0\n",
      "You can view the trace detail from the following URL:\n",
      "http://127.0.0.1:23333/v1.0/ui/traces/?#collection=trace_rag_metrics&uiTraceId=0xdd6910c41d42fbd19fba1261631cd796\n"
     ]
    }
   ],
   "source": [
    "import os\n",
    "\n",
    "from promptflow.tracing import start_trace\n",
    "\n",
    "from flows.generation_eval_flow import generation_eval_flow\n",
    "\n",
    "os.environ[\"PF_DISABLE_TRACING\"] = \"FALSE\"\n",
    "start_trace(collection=\"trace_rag_metrics\")\n",
    "\n",
    "dict_eval_gen = generation_eval_flow(\n",
    "    question=\"What is the capital of France?\",\n",
    "    answer_gt=\"The capital of France is Paris.\",\n",
    "    answer_pred=\"France's capital city is Paris, known for the Eiffel Tower.\",\n",
    "    context=[\n",
    "        \"Paris is the capital and most populous city of France.\",\n",
    "        \"The Eiffel Tower, located in Paris, is a famous landmark.\",\n",
    "        \"France is a country in Western Europe known for its art, culture, and cuisine.\",\n",
    "        \"Lyon and Marseille are also major French cities but not the capital.\",\n",
    "    ],\n",
    "    llm_client=llm_client,\n",
    "    template_store=template_store,\n",
    ")\n",
    "\n",
    "print(dict_eval_gen)"
   ]
  },
  {
   "cell_type": "code",
   "execution_count": 7,
   "metadata": {},
   "outputs": [
    {
     "name": "stdout",
     "output_type": "stream",
     "text": [
      "{'relevancy': 0.25}\n"
     ]
    }
   ],
   "source": [
    "from flows.retrieval_eval_flow import retrieval_eval_flow\n",
    "\n",
    "dict_eval_ret = retrieval_eval_flow(\n",
    "    question=\"What are the main ingredients in traditional Italian pesto?\",\n",
    "    answer_gt=\"Traditional Italian pesto is made with basil, garlic, pine nuts, Parmesan cheese, and olive oil.\",\n",
    "    answer_pred=\"Italian pesto is usually made with spinach, almonds, cheddar cheese, and olive oil.\",\n",
    "    context=[\n",
    "        \"Pesto alla Genovese, the traditional Italian pesto, is made with fresh basil leaves, garlic, pine nuts, Parmesan cheese, and extra virgin olive oil.\",\n",
    "        \"Spinach and other ingredients may be used in variations of pesto, but they are not part of the traditional recipe.\",\n",
    "        \"The use of almonds or cheddar cheese is not typical in authentic Italian pesto recipes.\",\n",
    "        \"Sunflower oil is not used in traditional Italian pesto.\",\n",
    "    ],\n",
    "    llm_client=llm_client,\n",
    "    template_store=template_store,\n",
    ")\n",
    "print(dict_eval_ret)"
   ]
  },
  {
   "cell_type": "code",
   "execution_count": 8,
   "metadata": {},
   "outputs": [
    {
     "name": "stdout",
     "output_type": "stream",
     "text": [
      "Prompt flow service has started...\n",
      "{'faithfulness': 0.25, 'precision': 0.25, 'recall': 0.0}\n"
     ]
    }
   ],
   "source": [
    "import os\n",
    "\n",
    "from promptflow.tracing import start_trace\n",
    "\n",
    "os.environ[\"PF_DISABLE_TRACING\"] = \"FALSE\"\n",
    "\n",
    "\n",
    "start_trace()\n",
    "dict_eval_gen = generation_eval_flow(\n",
    "    question=\"What are the main ingredients in traditional Italian pesto?\",\n",
    "    answer_gt=\"Traditional Italian pesto is made with basil, garlic, pine nuts, Parmesan cheese, and olive oil.\",\n",
    "    answer_pred=\"Italian pesto is usually made with spinach, almonds, cheddar cheese, and olive oil.\",\n",
    "    context=[\n",
    "        \"Pesto alla Genovese, the traditional Italian pesto, is made with fresh basil leaves, garlic, pine nuts, Parmesan cheese, and extra virgin olive oil.\",\n",
    "        \"Spinach and other ingredients may be used in variations of pesto, but they are not part of the traditional recipe.\",\n",
    "        \"The use of almonds or cheddar cheese is not typical in authentic Italian pesto recipes.\",\n",
    "        \"Sunflower oil is not used in traditional Italian pesto.\",\n",
    "    ],\n",
    "    llm_client=llm_client,\n",
    "    template_store=template_store,\n",
    ")\n",
    "print(dict_eval_gen)"
   ]
  },
  {
   "cell_type": "markdown",
   "metadata": {},
   "source": [
    "RAG evaluation flow"
   ]
  },
  {
   "cell_type": "code",
   "execution_count": 5,
   "metadata": {},
   "outputs": [],
   "source": [
    "from clients.embedding_client import OpenAIEmbeddingClient\n",
    "from clients.vector_store_client import FAISSClient\n",
    "from flows.rag_flow import rag_flow\n",
    "\n",
    "embedding_client = OpenAIEmbeddingClient(\n",
    "    credential=AZURE_OPENAI_API_KEY,\n",
    "    endpoint=AZURE_OPENAI_ENDPOINT,\n",
    "    api_version=AZURE_OPENAI_API_VERSION,\n",
    "    model=\"text-embedding-ada-002\",\n",
    ")\n",
    "vector_store = FAISSClient(embedding_client=embedding_client)"
   ]
  },
  {
   "cell_type": "code",
   "execution_count": 6,
   "metadata": {},
   "outputs": [
    {
     "name": "stderr",
     "output_type": "stream",
     "text": [
      "\u001b[32m2025-05-15 14:45:35.205\u001b[0m | \u001b[1mINFO    \u001b[0m | \u001b[36mclients.vector_store_client\u001b[0m:\u001b[36mingest_documents\u001b[0m:\u001b[36m96\u001b[0m - \u001b[1mTotal documents ingested: 7\u001b[0m\n"
     ]
    }
   ],
   "source": [
    "# context = Path(\"data/equality-and-diversity-policy.pdf\")\n",
    "# batch_size =  400\n",
    "context = [\n",
    "    \"To build muscle effectively, focus on compound exercises such as squats, deadlifts, bench press, and pull-ups.\",\n",
    "    \"Progressive overload is essential — gradually increasing the weight or reps over time will stimulate muscle growth.\",\n",
    "    \"Eating a calorie surplus with adequate protein intake (1.6-2.2g per kg of body weight) supports muscle hypertrophy.\",\n",
    "    \"Rest and recovery are crucial; muscles grow during rest periods, so aim for at least 7-8 hours of sleep per night.\",\n",
    "    \"Train each major muscle group at least twice a week with a combination of volume and intensity.\",\n",
    "    \"A typical beginner mass-building routine includes 3–4 full-body workouts per week focusing on strength and hypertrophy.\",\n",
    "    \"Supplements like creatine monohydrate and whey protein can support your muscle-building goals when used correctly.\",\n",
    "]\n",
    "vector_store.ingest_documents(context, batch_size=64)"
   ]
  },
  {
   "cell_type": "code",
   "execution_count": 7,
   "metadata": {},
   "outputs": [],
   "source": [
    "question = \"What are the best exercises for building muscle?\"\n",
    "answer_gt = \"The best exercises for building muscle include compound movements like squats, deadlifts, bench press, and pull-ups.\""
   ]
  },
  {
   "cell_type": "code",
   "execution_count": 8,
   "metadata": {},
   "outputs": [
    {
     "name": "stdout",
     "output_type": "stream",
     "text": [
      "Prompt flow service has started...\n",
      "You can view the trace detail from the following URL:\n",
      "http://127.0.0.1:23333/v1.0/ui/traces/?#collection=trace_rag_metrics&uiTraceId=0xfa05a8df5a1e566c96191725e89bf267\n"
     ]
    },
    {
     "name": "stderr",
     "output_type": "stream",
     "text": [
      "WARNING:opentelemetry.attributes:Invalid type dict for attribute '__computed__.cumulative_token_count.completion' value. Expected one of ['bool', 'str', 'bytes', 'int', 'float'] or a sequence of those types\n",
      "WARNING:opentelemetry.attributes:Invalid type dict for attribute '__computed__.cumulative_token_count.prompt' value. Expected one of ['bool', 'str', 'bytes', 'int', 'float'] or a sequence of those types\n",
      "WARNING:opentelemetry.attributes:Invalid type dict for attribute 'llm.usage.completion_tokens_details' value. Expected one of ['bool', 'str', 'bytes', 'int', 'float'] or a sequence of those types\n",
      "WARNING:opentelemetry.attributes:Invalid type dict for attribute 'llm.usage.prompt_tokens_details' value. Expected one of ['bool', 'str', 'bytes', 'int', 'float'] or a sequence of those types\n",
      "WARNING:opentelemetry.attributes:Invalid type dict for attribute '__computed__.cumulative_token_count.completion' value. Expected one of ['bool', 'str', 'bytes', 'int', 'float'] or a sequence of those types\n"
     ]
    },
    {
     "name": "stdout",
     "output_type": "stream",
     "text": [
      "{'relevancy': 1.0, 'faithfulness': 0.2727272727272727, 'precision': 0.0, 'recall': 1.0}\n"
     ]
    }
   ],
   "source": [
    "from promptflow.tracing import start_trace\n",
    "\n",
    "os.environ[\"PF_DISABLE_TRACING\"] = \"FALSE\"\n",
    "start_trace(collection=\"trace_rag_metrics\")\n",
    "\n",
    "result = rag_flow(\n",
    "    question=question,\n",
    "    answer_gt=answer_gt,\n",
    "    llm_client=llm_client,\n",
    "    template_store=template_store,\n",
    "    vector_store=vector_store,\n",
    "    num_results=3,\n",
    "    system_prompt=\"Answer the question based on the provided context.\",\n",
    ")\n",
    "print(result)"
   ]
  }
 ],
 "metadata": {
  "kernelspec": {
   "display_name": ".venv",
   "language": "python",
   "name": "python3"
  },
  "language_info": {
   "codemirror_mode": {
    "name": "ipython",
    "version": 3
   },
   "file_extension": ".py",
   "mimetype": "text/x-python",
   "name": "python",
   "nbconvert_exporter": "python",
   "pygments_lexer": "ipython3",
   "version": "3.11.0"
  }
 },
 "nbformat": 4,
 "nbformat_minor": 2
}
